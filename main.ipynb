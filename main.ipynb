{
 "cells": [
  {
   "cell_type": "markdown",
   "id": "b7e60b85",
   "metadata": {},
   "source": [
    "# CS 203 Assignment 10\n",
    "\n",
    "## Team Members\n",
    "- Nishchay Bhutoria (23110222)\n",
    "- Srivaths P (23110321)"
   ]
  },
  {
   "cell_type": "markdown",
   "id": "04b79f9d",
   "metadata": {},
   "source": [
    "## Imports"
   ]
  },
  {
   "cell_type": "code",
   "id": "2c8d8b0a",
   "metadata": {
    "ExecuteTime": {
     "end_time": "2025-04-17T17:43:41.299549Z",
     "start_time": "2025-04-17T17:43:41.296910Z"
    }
   },
   "source": [
    "import pandas as pd\n",
    "import numpy as np\n",
    "from scipy.stats import ks_2samp\n",
    "from statsmodels.stats.proportion import proportions_ztest"
   ],
   "outputs": [],
   "execution_count": 81
  },
  {
   "cell_type": "markdown",
   "id": "7bb9ec9b",
   "metadata": {},
   "source": [
    "## Part 1: A/B Testing using Ad Click Prediction"
   ]
  },
  {
   "cell_type": "markdown",
   "id": "f62896f0",
   "metadata": {},
   "source": [
    "### 1. Load the dataset into a pandas DataFrame."
   ]
  },
  {
   "cell_type": "code",
   "id": "677a0473",
   "metadata": {
    "ExecuteTime": {
     "end_time": "2025-04-17T17:44:30.022300Z",
     "start_time": "2025-04-17T17:44:30.001218Z"
    }
   },
   "source": [
    "df = pd.read_csv('datasets/ad_click_dataset.csv')\n",
    "df.head()"
   ],
   "outputs": [
    {
     "data": {
      "text/plain": [
       "     id full_name   age      gender device_type ad_position browsing_history  \\\n",
       "0   670   User670  22.0         NaN     Desktop         Top         Shopping   \n",
       "1  3044  User3044   NaN        Male     Desktop         Top              NaN   \n",
       "2  5912  User5912  41.0  Non-Binary         NaN        Side        Education   \n",
       "3  5418  User5418  34.0        Male         NaN         NaN    Entertainment   \n",
       "4  9452  User9452  39.0  Non-Binary         NaN         NaN     Social Media   \n",
       "\n",
       "  time_of_day  click  \n",
       "0   Afternoon      1  \n",
       "1         NaN      1  \n",
       "2       Night      1  \n",
       "3     Evening      1  \n",
       "4     Morning      0  "
      ],
      "text/html": [
       "<div>\n",
       "<style scoped>\n",
       "    .dataframe tbody tr th:only-of-type {\n",
       "        vertical-align: middle;\n",
       "    }\n",
       "\n",
       "    .dataframe tbody tr th {\n",
       "        vertical-align: top;\n",
       "    }\n",
       "\n",
       "    .dataframe thead th {\n",
       "        text-align: right;\n",
       "    }\n",
       "</style>\n",
       "<table border=\"1\" class=\"dataframe\">\n",
       "  <thead>\n",
       "    <tr style=\"text-align: right;\">\n",
       "      <th></th>\n",
       "      <th>id</th>\n",
       "      <th>full_name</th>\n",
       "      <th>age</th>\n",
       "      <th>gender</th>\n",
       "      <th>device_type</th>\n",
       "      <th>ad_position</th>\n",
       "      <th>browsing_history</th>\n",
       "      <th>time_of_day</th>\n",
       "      <th>click</th>\n",
       "    </tr>\n",
       "  </thead>\n",
       "  <tbody>\n",
       "    <tr>\n",
       "      <th>0</th>\n",
       "      <td>670</td>\n",
       "      <td>User670</td>\n",
       "      <td>22.0</td>\n",
       "      <td>NaN</td>\n",
       "      <td>Desktop</td>\n",
       "      <td>Top</td>\n",
       "      <td>Shopping</td>\n",
       "      <td>Afternoon</td>\n",
       "      <td>1</td>\n",
       "    </tr>\n",
       "    <tr>\n",
       "      <th>1</th>\n",
       "      <td>3044</td>\n",
       "      <td>User3044</td>\n",
       "      <td>NaN</td>\n",
       "      <td>Male</td>\n",
       "      <td>Desktop</td>\n",
       "      <td>Top</td>\n",
       "      <td>NaN</td>\n",
       "      <td>NaN</td>\n",
       "      <td>1</td>\n",
       "    </tr>\n",
       "    <tr>\n",
       "      <th>2</th>\n",
       "      <td>5912</td>\n",
       "      <td>User5912</td>\n",
       "      <td>41.0</td>\n",
       "      <td>Non-Binary</td>\n",
       "      <td>NaN</td>\n",
       "      <td>Side</td>\n",
       "      <td>Education</td>\n",
       "      <td>Night</td>\n",
       "      <td>1</td>\n",
       "    </tr>\n",
       "    <tr>\n",
       "      <th>3</th>\n",
       "      <td>5418</td>\n",
       "      <td>User5418</td>\n",
       "      <td>34.0</td>\n",
       "      <td>Male</td>\n",
       "      <td>NaN</td>\n",
       "      <td>NaN</td>\n",
       "      <td>Entertainment</td>\n",
       "      <td>Evening</td>\n",
       "      <td>1</td>\n",
       "    </tr>\n",
       "    <tr>\n",
       "      <th>4</th>\n",
       "      <td>9452</td>\n",
       "      <td>User9452</td>\n",
       "      <td>39.0</td>\n",
       "      <td>Non-Binary</td>\n",
       "      <td>NaN</td>\n",
       "      <td>NaN</td>\n",
       "      <td>Social Media</td>\n",
       "      <td>Morning</td>\n",
       "      <td>0</td>\n",
       "    </tr>\n",
       "  </tbody>\n",
       "</table>\n",
       "</div>"
      ]
     },
     "execution_count": 90,
     "metadata": {},
     "output_type": "execute_result"
    }
   ],
   "execution_count": 90
  },
  {
   "cell_type": "markdown",
   "id": "0402e635",
   "metadata": {},
   "source": [
    "### 2. Perform necessary data cleaning and preprocessing:\n",
    "- Handle missing values\n",
    "- Convert categorical columns  (e.g., gender, ad_position)\n"
   ]
  },
  {
   "cell_type": "code",
   "id": "8489ec63",
   "metadata": {
    "ExecuteTime": {
     "end_time": "2025-04-17T17:44:39.846005Z",
     "start_time": "2025-04-17T17:44:39.834149Z"
    }
   },
   "source": [
    "df = df.dropna(subset=['ad_position'])\n",
    "\n",
    "categorical_columns = df.select_dtypes(include=['object', 'category']).columns\n",
    "for col in categorical_columns:\n",
    "    df[col] = df[col].astype('category').cat.codes\n",
    "\n",
    "df.head()"
   ],
   "outputs": [
    {
     "data": {
      "text/plain": [
       "     id  full_name   age  gender  device_type  ad_position  browsing_history  \\\n",
       "0   670       2088  22.0      -1            0            2                 3   \n",
       "1  3044        750   NaN       1            0            2                -1   \n",
       "2  5912       1783  41.0       2           -1            1                 0   \n",
       "5  5942       1794   NaN       2           -1            0                 4   \n",
       "6  7808       2497  26.0       0            0            2                -1   \n",
       "\n",
       "   time_of_day  click  \n",
       "0            0      1  \n",
       "1           -1      1  \n",
       "2            3      1  \n",
       "5            1      1  \n",
       "6           -1      1  "
      ],
      "text/html": [
       "<div>\n",
       "<style scoped>\n",
       "    .dataframe tbody tr th:only-of-type {\n",
       "        vertical-align: middle;\n",
       "    }\n",
       "\n",
       "    .dataframe tbody tr th {\n",
       "        vertical-align: top;\n",
       "    }\n",
       "\n",
       "    .dataframe thead th {\n",
       "        text-align: right;\n",
       "    }\n",
       "</style>\n",
       "<table border=\"1\" class=\"dataframe\">\n",
       "  <thead>\n",
       "    <tr style=\"text-align: right;\">\n",
       "      <th></th>\n",
       "      <th>id</th>\n",
       "      <th>full_name</th>\n",
       "      <th>age</th>\n",
       "      <th>gender</th>\n",
       "      <th>device_type</th>\n",
       "      <th>ad_position</th>\n",
       "      <th>browsing_history</th>\n",
       "      <th>time_of_day</th>\n",
       "      <th>click</th>\n",
       "    </tr>\n",
       "  </thead>\n",
       "  <tbody>\n",
       "    <tr>\n",
       "      <th>0</th>\n",
       "      <td>670</td>\n",
       "      <td>2088</td>\n",
       "      <td>22.0</td>\n",
       "      <td>-1</td>\n",
       "      <td>0</td>\n",
       "      <td>2</td>\n",
       "      <td>3</td>\n",
       "      <td>0</td>\n",
       "      <td>1</td>\n",
       "    </tr>\n",
       "    <tr>\n",
       "      <th>1</th>\n",
       "      <td>3044</td>\n",
       "      <td>750</td>\n",
       "      <td>NaN</td>\n",
       "      <td>1</td>\n",
       "      <td>0</td>\n",
       "      <td>2</td>\n",
       "      <td>-1</td>\n",
       "      <td>-1</td>\n",
       "      <td>1</td>\n",
       "    </tr>\n",
       "    <tr>\n",
       "      <th>2</th>\n",
       "      <td>5912</td>\n",
       "      <td>1783</td>\n",
       "      <td>41.0</td>\n",
       "      <td>2</td>\n",
       "      <td>-1</td>\n",
       "      <td>1</td>\n",
       "      <td>0</td>\n",
       "      <td>3</td>\n",
       "      <td>1</td>\n",
       "    </tr>\n",
       "    <tr>\n",
       "      <th>5</th>\n",
       "      <td>5942</td>\n",
       "      <td>1794</td>\n",
       "      <td>NaN</td>\n",
       "      <td>2</td>\n",
       "      <td>-1</td>\n",
       "      <td>0</td>\n",
       "      <td>4</td>\n",
       "      <td>1</td>\n",
       "      <td>1</td>\n",
       "    </tr>\n",
       "    <tr>\n",
       "      <th>6</th>\n",
       "      <td>7808</td>\n",
       "      <td>2497</td>\n",
       "      <td>26.0</td>\n",
       "      <td>0</td>\n",
       "      <td>0</td>\n",
       "      <td>2</td>\n",
       "      <td>-1</td>\n",
       "      <td>-1</td>\n",
       "      <td>1</td>\n",
       "    </tr>\n",
       "  </tbody>\n",
       "</table>\n",
       "</div>"
      ]
     },
     "execution_count": 91,
     "metadata": {},
     "output_type": "execute_result"
    }
   ],
   "execution_count": 91
  },
  {
   "cell_type": "markdown",
   "id": "6f9afde9",
   "metadata": {},
   "source": [
    "### 3. Split the dataset into two groups:\n",
    "- Group A: Users with ad_position = 2 (Top)\n",
    "- Group B: Users with ad_position = 0 (Bottom)"
   ]
  },
  {
   "cell_type": "code",
   "id": "2acb861f",
   "metadata": {
    "ExecuteTime": {
     "end_time": "2025-04-17T17:43:41.439419Z",
     "start_time": "2025-04-17T17:43:41.434991Z"
    }
   },
   "source": [
    "group_A = df[df['ad_position'] == 2]\n",
    "group_B = df[df['ad_position'] == 0]"
   ],
   "outputs": [],
   "execution_count": 84
  },
  {
   "cell_type": "markdown",
   "id": "5c95de54",
   "metadata": {},
   "source": [
    "### 4. Use the statsmodel’s `proportions_ztest` function to perform an independent two-sample z-test between Group A and Group B."
   ]
  },
  {
   "cell_type": "code",
   "id": "784c1172",
   "metadata": {
    "ExecuteTime": {
     "end_time": "2025-04-17T17:43:41.486730Z",
     "start_time": "2025-04-17T17:43:41.482598Z"
    }
   },
   "source": [
    "clicks_A = group_A['click'].sum()\n",
    "clicks_B = group_B['click'].sum()\n",
    "\n",
    "total_A = group_A.shape[0]\n",
    "total_B = group_B.shape[0]\n",
    "\n",
    "count = np.array([clicks_A, clicks_B])\n",
    "nobs = np.array([total_A, total_B])\n",
    "z_stat, p_val = proportions_ztest(count, nobs)"
   ],
   "outputs": [],
   "execution_count": 85
  },
  {
   "cell_type": "markdown",
   "id": "a1c9bba8",
   "metadata": {},
   "source": [
    "### 5. Print the following:\n",
    "- The z-score\n",
    "- The p-value"
   ]
  },
  {
   "cell_type": "code",
   "id": "5f2c2a54",
   "metadata": {
    "ExecuteTime": {
     "end_time": "2025-04-17T17:43:41.536746Z",
     "start_time": "2025-04-17T17:43:41.532835Z"
    }
   },
   "source": [
    "print(f\"Z-score: {z_stat:.8f}\")\n",
    "print(f\"P-value: {p_val:.8f}\")\n",
    "\n",
    "alpha = 0.05\n",
    "if p_val < alpha:\n",
    "    print(\"There is a statistically significant difference in click-through rates between the two ad positions.\")\n",
    "else:\n",
    "    print(\"There is no statistically significant difference in click-through rates between the two ad positions.\")"
   ],
   "outputs": [
    {
     "name": "stdout",
     "output_type": "stream",
     "text": [
      "Z-score: -4.06421541\n",
      "P-value: 0.00004819\n",
      "There is a statistically significant difference in click-through rates between the two ad positions.\n"
     ]
    }
   ],
   "execution_count": 86
  },
  {
   "cell_type": "markdown",
   "id": "a30fb4f2",
   "metadata": {},
   "source": [
    "### 6. Interpret the result: Is there a statistically significant difference in click-through rates between the two groups? Justify your answer. "
   ]
  },
  {
   "cell_type": "markdown",
   "id": "141ca43f",
   "metadata": {},
   "source": "Yes, there is a statistically significant difference in click-through rates between the two groups. The p-value of ~0.00005 is less than the significance level of 0.05, indicating that the observed difference in click-through rates is unlikely to have occurred by random chance. This suggests that the ad position has a significant impact on user engagement."
  },
  {
   "cell_type": "markdown",
   "id": "a9be35fb",
   "metadata": {},
   "source": [
    "## Part 2: Covariate Shift Detection Using Air Quality Data"
   ]
  },
  {
   "cell_type": "markdown",
   "id": "f44673eb",
   "metadata": {},
   "source": [
    "### 1. You are provided with 3 datasets via this Google Drive link:\n",
    "- train.csv\n",
    "- test1.csv\n",
    "- test2.csv"
   ]
  },
  {
   "cell_type": "markdown",
   "id": "d402232c",
   "metadata": {},
   "source": [
    "### 2. Load all three datasets using `pandas`."
   ]
  },
  {
   "cell_type": "code",
   "id": "51f0de41",
   "metadata": {
    "ExecuteTime": {
     "end_time": "2025-04-17T17:43:41.632281Z",
     "start_time": "2025-04-17T17:43:41.582532Z"
    }
   },
   "source": [
    "train = pd.read_csv('datasets/train.csv')\n",
    "test1 = pd.read_csv('datasets/test1.csv')\n",
    "test2 = pd.read_csv('datasets/test2.csv')\n",
    "\n",
    "\n",
    "def fix_commas(df):\n",
    "    return df.apply(lambda col: col.map(lambda x: float(str(x).replace(',', '.')) if isinstance(x, str) and ',' in x else x))\n",
    "\n",
    "\n",
    "train = fix_commas(train)\n",
    "test1 = fix_commas(test1)\n",
    "test2 = fix_commas(test2)\n",
    "\n",
    "train.shape, test1.shape, test2.shape"
   ],
   "outputs": [
    {
     "data": {
      "text/plain": [
       "((3200, 18), (800, 18), (800, 18))"
      ]
     },
     "execution_count": 87,
     "metadata": {},
     "output_type": "execute_result"
    }
   ],
   "execution_count": 87
  },
  {
   "cell_type": "markdown",
   "id": "e4f6d397",
   "metadata": {},
   "source": [
    "### 3. For each test dataset (`test1.csv` and `test2.csv`), compare it with `train.csv` using the **Kolmogorov–Smirnov test** (`scipy.stats.ks_2samp`). Perform the KS test on the **NO2(GT)** column to identify whether there are any distributional differences. "
   ]
  },
  {
   "cell_type": "code",
   "id": "adcdad93",
   "metadata": {
    "ExecuteTime": {
     "end_time": "2025-04-17T17:43:41.682980Z",
     "start_time": "2025-04-17T17:43:41.661163Z"
    }
   },
   "source": [
    "train = train[train['NO2(GT)'] >= 0]\n",
    "test1 = test1[test1['NO2(GT)'] >= 0]\n",
    "test2 = test2[test2['NO2(GT)'] >= 0]\n",
    "\n",
    "train_no2 = train['NO2(GT)'].dropna()\n",
    "test1_no2 = test1['NO2(GT)'].dropna()\n",
    "test2_no2 = test2['NO2(GT)'].dropna()\n",
    "\n",
    "ks_stat_1, p_val_1 = ks_2samp(train_no2, test1_no2)\n",
    "ks_stat_2, p_val_2 = ks_2samp(train_no2, test2_no2)\n",
    "\n",
    "print(\"KS Test Results for NO2(GT):\")\n",
    "\n",
    "print(\"\\nTrain vs Test1:\")\n",
    "print(f\"KS Statistic = {ks_stat_1:.8f}\")\n",
    "print(f\"P-value      = {p_val_1:.8f}\")\n",
    "print(\"No significant difference\" if p_val_1 >= 0.05 else \"Significant difference\")\n",
    "\n",
    "print(\"\\nTrain vs Test2:\")\n",
    "print(f\"KS Statistic = {ks_stat_2:.8f}\")\n",
    "print(f\"P-value      = {p_val_2:.8f}\")\n",
    "print(\"No significant difference\" if p_val_2 >= 0.05 else \"Significant difference\")\n"
   ],
   "outputs": [
    {
     "name": "stdout",
     "output_type": "stream",
     "text": [
      "KS Test Results for NO2(GT):\n",
      "\n",
      "Train vs Test1:\n",
      "KS Statistic = 0.01706222\n",
      "P-value      = 0.99713782\n",
      "No significant difference\n",
      "\n",
      "Train vs Test2:\n",
      "KS Statistic = 0.36885364\n",
      "P-value      = 0.00000000\n",
      "Significant difference\n"
     ]
    }
   ],
   "execution_count": 88
  },
  {
   "cell_type": "markdown",
   "id": "a63ef879",
   "metadata": {},
   "source": [
    "Train vs Test1: There is no significant difference in the distribution of NO2(GT) values between the training and test1 datasets, as indicated by the high p-value (~0.9971).\n",
    "\n",
    "Train vs Test2: There is a significant difference in the distribution of NO2(GT) values between the training and test2 datasets, as indicated by the low p-value (~0.0000)."
   ]
  },
  {
   "cell_type": "markdown",
   "id": "12b42ecb",
   "metadata": {},
   "source": [
    "### 4. Report the KS statistic and p-value for each feature."
   ]
  },
  {
   "cell_type": "code",
   "id": "0d8efc33",
   "metadata": {
    "ExecuteTime": {
     "end_time": "2025-04-17T17:43:41.831457Z",
     "start_time": "2025-04-17T17:43:41.711899Z"
    }
   },
   "source": [
    "numeric_cols = train.select_dtypes(include=['float64', 'int64']).columns\n",
    "numeric_cols = [col for col in numeric_cols if not col.lower().startswith('unnamed')]\n",
    "\n",
    "results = []\n",
    "\n",
    "for col in numeric_cols:\n",
    "    train_col = train[col].dropna()\n",
    "    test1_col = test1[col].dropna()\n",
    "    test2_col = test2[col].dropna()\n",
    "\n",
    "    ks_stat_1, p_val_1 = ks_2samp(train_col, test1_col)\n",
    "    ks_stat_2, p_val_2 = ks_2samp(train_col, test2_col)\n",
    "\n",
    "    results.append({\n",
    "        'Feature': col,\n",
    "        'KS Statistic (test1)': ks_stat_1,\n",
    "        'P-value (test1)': p_val_1,\n",
    "        'KS Statistic (test2)': ks_stat_2,\n",
    "        'P-value (test2)': p_val_2\n",
    "    })\n",
    "\n",
    "results_df = pd.DataFrame(results)\n",
    "results_df"
   ],
   "outputs": [
    {
     "data": {
      "text/plain": [
       "         Feature  KS Statistic (test1)  P-value (test1)  KS Statistic (test2)  \\\n",
       "0    PT08.S1(CO)              0.037426         0.437186              0.108878   \n",
       "1       NMHC(GT)              0.018621         0.991175              0.261244   \n",
       "2       C6H6(GT)              0.022405         0.946970              0.165641   \n",
       "3  PT08.S2(NMHC)              0.022405         0.946970              0.167671   \n",
       "4        NOx(GT)              0.018128         0.993617              0.487814   \n",
       "5   PT08.S3(NOx)              0.040097         0.352329              0.309296   \n",
       "6        NO2(GT)              0.017062         0.997138              0.368854   \n",
       "7   PT08.S4(NO2)              0.021764         0.958119              0.600455   \n",
       "8    PT08.S5(O3)              0.028462         0.772064              0.114048   \n",
       "\n",
       "   P-value (test2)  \n",
       "0     9.736907e-07  \n",
       "1     4.978435e-37  \n",
       "2     4.767387e-15  \n",
       "3     2.072857e-15  \n",
       "4    1.986449e-132  \n",
       "5     5.487765e-52  \n",
       "6     2.531724e-74  \n",
       "7    3.376137e-206  \n",
       "8     2.372149e-07  "
      ],
      "text/html": [
       "<div>\n",
       "<style scoped>\n",
       "    .dataframe tbody tr th:only-of-type {\n",
       "        vertical-align: middle;\n",
       "    }\n",
       "\n",
       "    .dataframe tbody tr th {\n",
       "        vertical-align: top;\n",
       "    }\n",
       "\n",
       "    .dataframe thead th {\n",
       "        text-align: right;\n",
       "    }\n",
       "</style>\n",
       "<table border=\"1\" class=\"dataframe\">\n",
       "  <thead>\n",
       "    <tr style=\"text-align: right;\">\n",
       "      <th></th>\n",
       "      <th>Feature</th>\n",
       "      <th>KS Statistic (test1)</th>\n",
       "      <th>P-value (test1)</th>\n",
       "      <th>KS Statistic (test2)</th>\n",
       "      <th>P-value (test2)</th>\n",
       "    </tr>\n",
       "  </thead>\n",
       "  <tbody>\n",
       "    <tr>\n",
       "      <th>0</th>\n",
       "      <td>PT08.S1(CO)</td>\n",
       "      <td>0.037426</td>\n",
       "      <td>0.437186</td>\n",
       "      <td>0.108878</td>\n",
       "      <td>9.736907e-07</td>\n",
       "    </tr>\n",
       "    <tr>\n",
       "      <th>1</th>\n",
       "      <td>NMHC(GT)</td>\n",
       "      <td>0.018621</td>\n",
       "      <td>0.991175</td>\n",
       "      <td>0.261244</td>\n",
       "      <td>4.978435e-37</td>\n",
       "    </tr>\n",
       "    <tr>\n",
       "      <th>2</th>\n",
       "      <td>C6H6(GT)</td>\n",
       "      <td>0.022405</td>\n",
       "      <td>0.946970</td>\n",
       "      <td>0.165641</td>\n",
       "      <td>4.767387e-15</td>\n",
       "    </tr>\n",
       "    <tr>\n",
       "      <th>3</th>\n",
       "      <td>PT08.S2(NMHC)</td>\n",
       "      <td>0.022405</td>\n",
       "      <td>0.946970</td>\n",
       "      <td>0.167671</td>\n",
       "      <td>2.072857e-15</td>\n",
       "    </tr>\n",
       "    <tr>\n",
       "      <th>4</th>\n",
       "      <td>NOx(GT)</td>\n",
       "      <td>0.018128</td>\n",
       "      <td>0.993617</td>\n",
       "      <td>0.487814</td>\n",
       "      <td>1.986449e-132</td>\n",
       "    </tr>\n",
       "    <tr>\n",
       "      <th>5</th>\n",
       "      <td>PT08.S3(NOx)</td>\n",
       "      <td>0.040097</td>\n",
       "      <td>0.352329</td>\n",
       "      <td>0.309296</td>\n",
       "      <td>5.487765e-52</td>\n",
       "    </tr>\n",
       "    <tr>\n",
       "      <th>6</th>\n",
       "      <td>NO2(GT)</td>\n",
       "      <td>0.017062</td>\n",
       "      <td>0.997138</td>\n",
       "      <td>0.368854</td>\n",
       "      <td>2.531724e-74</td>\n",
       "    </tr>\n",
       "    <tr>\n",
       "      <th>7</th>\n",
       "      <td>PT08.S4(NO2)</td>\n",
       "      <td>0.021764</td>\n",
       "      <td>0.958119</td>\n",
       "      <td>0.600455</td>\n",
       "      <td>3.376137e-206</td>\n",
       "    </tr>\n",
       "    <tr>\n",
       "      <th>8</th>\n",
       "      <td>PT08.S5(O3)</td>\n",
       "      <td>0.028462</td>\n",
       "      <td>0.772064</td>\n",
       "      <td>0.114048</td>\n",
       "      <td>2.372149e-07</td>\n",
       "    </tr>\n",
       "  </tbody>\n",
       "</table>\n",
       "</div>"
      ]
     },
     "execution_count": 89,
     "metadata": {},
     "output_type": "execute_result"
    }
   ],
   "execution_count": 89
  },
  {
   "cell_type": "markdown",
   "id": "6ed9203b",
   "metadata": {},
   "source": "### 6. Determine which of the two test datasets (`test1.csv` or `test2.csv`) exhibits a covariate shift relative to the training dataset (`train.csv`). Use the results of the Kolmogorov–Smirnov test to support your answer."
  },
  {
   "cell_type": "markdown",
   "id": "a535e82f",
   "metadata": {},
   "source": [
    "Kolmogorov-Smirnov (KS) tests indicate a significant covariate shift between the training data and test2, but not test1. Most features in test2 showed high KS statistics and p-values < 0.05 compared to the training set.\n",
    "\n",
    "The NO2(GT) feature highlights this difference. The comparison between train and test2 showed a significant distributional divergence (KS=0.3689, p=0), while the comparison between train and test1 indicated high similarity (KS=0.0171, p=0.9971)."
   ]
  }
 ],
 "metadata": {
  "kernelspec": {
   "display_name": "venv",
   "language": "python",
   "name": "python3"
  },
  "language_info": {
   "codemirror_mode": {
    "name": "ipython",
    "version": 3
   },
   "file_extension": ".py",
   "mimetype": "text/x-python",
   "name": "python",
   "nbconvert_exporter": "python",
   "pygments_lexer": "ipython3",
   "version": "3.12.3"
  }
 },
 "nbformat": 4,
 "nbformat_minor": 5
}
